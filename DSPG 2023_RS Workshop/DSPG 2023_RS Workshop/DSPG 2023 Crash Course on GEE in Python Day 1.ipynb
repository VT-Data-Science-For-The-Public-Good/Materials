{
 "cells": [
  {
   "cell_type": "markdown",
   "id": "0c7ba822",
   "metadata": {},
   "source": [
    "# <center><font color=navy>DSPG 2023</font></center>\n",
    "## <center>A Crash Course on Remote Sensing with Google Earth Engine (GEE) in Python</center>\n",
    "### <center>Naveen Abedin</center>\n",
    "\n",
    "\n",
    "\n",
    "\n",
    "<center> Research Associate, Data Science for Public Good (DSPG) 2023 </center>\n",
    "<center> Virginia Tech</center>\n",
    "<center> naveenabedin@vt.edu </center> "
   ]
  },
  {
   "cell_type": "markdown",
   "id": "58d4618c",
   "metadata": {},
   "source": [
    "Much of the resources for this workshop have been gathered from the lecture notes of Dr. Elinor Benami, Fall 2022 (elinor@vt.edu)\n",
    "\n",
    "\n",
    "This crash-course is designed to briefly introduce applied concepts in remote sensing and using Google Earth Engine in the Jupyter Notebook (Python) environment. \n",
    "\n",
    "\n",
    "## Remote Sensing\n",
    "\n",
    "\n",
    "* Remote sensing is the study of acquiring information about objects or phenomena on the Earth's surface without direct physical contact.\n",
    "\n",
    "* It involves the use of sensors, typically mounted on satellites or aircraft, to gather data from a distance. These sensors capture electromagnetic radiation reflected or emitted by the Earth's surface, atmosphere, and other objects. \n",
    "\n",
    "* Remote sensing technology allows scientists and researchers to obtain valuable information about the Earth's land, water, and atmosphere on a global scale. It provides a way to study and monitor various aspects of the environment, such as land cover, vegetation health, urban development, atmospheric conditions, and natural disasters. \n",
    "\n",
    "* This information can be presented in the form of **digital imagery**. \n",
    "\n",
    "\n",
    "\n",
    "> Goals:\n",
    "\n",
    "- Learn about the basic concept of remote sensing\n",
    "- Use Google Earth Engine platform in the Jupyter Notebook (Python) environment\n",
    "- Generate some simple maps in R"
   ]
  },
  {
   "cell_type": "markdown",
   "id": "1fad6a27",
   "metadata": {},
   "source": [
    "## Sensors and satellites\n",
    "\n",
    "\n",
    "Three most well-known satellite missions are:\n",
    "- MODIS (https://modis.gsfc.nasa.gov/about/)\n",
    "- Landsat (https://www.nasa.gov/mission_pages/landsat/overview/index.html)\n",
    "- Sentinel (https://sentinel.esa.int/web/sentinel/missions/sentinel-1)\n",
    "\n",
    "\n",
    "\n",
    "\n",
    "**MODIS** (Moderate Resolution Imaging Spectroradiometer) is a key instrument onboard two NASA satellites, Terra and Aqua. It is designed to provide accurate and comprehensive observations of the Earth's land, ocean, and atmospheric conditions. \n",
    "\n",
    "\n",
    "The **Landsat** program is a series of Earth observation satellites jointly operated by NASA (National Aeronautics and Space Administration) and the USGS (United States Geological Survey). The satellites within the Landsat program have been providing continuous global coverage of the Earth's surface since 1972, making it one of the longest-running satellite programs for Earth observation.\n",
    "\n",
    "\n",
    "\n",
    "The **Sentinel** satellites are a series of Earth observation satellites developed by the European Space Agency (ESA) as part of the European Union's Copernicus program. The Copernicus program aims to provide accurate and timely environmental information for monitoring and managing the Earth's resources and ecosystems. \n",
    "\n",
    "\n",
    "\n",
    "Several types of images can be collected through remote sensing. In this workshop, we will focus on optical and radar imagery. \n",
    "**Optical imagery** relies on the reflection and absorption of sunlight to capture images. It utilizes the visible and near-infrared portions of the electromagnetic spectrum. On the other hand, **radar imagery** uses active sensing, where radar systems emit their own electromagnetic waves and measure the backscattered signals that bounce back from the Earth's surface.\n",
    "\n",
    "\n",
    "(See Dr. Benami's 'Lab 1 - Remote Sensing Basics' for more detail)\n"
   ]
  },
  {
   "cell_type": "markdown",
   "id": "5d8dae81",
   "metadata": {},
   "source": [
    "## Optical Imagery\n",
    "\n",
    "\n",
    "Optical images are captured by sensors that analyze the intensity and spectral characteristics of visible and near-infrared light. They can provide high-resolution imagery and the color information in optical images allows for visual interpretation of features. \n",
    "\n",
    "\n",
    "<img src=\"elecspec1.png\"  width=\"600\">\n",
    "</div>\n",
    "\n",
    "(Image acquired from 'Lecture2_Resolution_EMSpectrum_Fall22', Elinor Benami)\n",
    "\n",
    "Spectral Reflectance varies across different surfaces:\n",
    "\n",
    "<img src=\"spectralreflectance.png\"  width=\"600\">\n",
    "</div>\n",
    "\n",
    "(Image acquired from 'Lecture2_Resolution_EMSpectrum_Fall22', Elinor Benami)\n",
    "\n",
    "\n",
    "- Normalized Difference Vegetation Index (NDVI) \n",
    "- Enhanced Vegetation Index (EVI)\n",
    "\n",
    "(visit: https://developers.google.com/earth-engine/datasets/catalog/MODIS_061_MOD13A2)\n",
    "\n",
    "\n",
    "- Land Surface Temperature (LST)\n",
    "\n",
    "(visit: https://developers.google.com/earth-engine/datasets/catalog/MODIS_061_MOD11A2)"
   ]
  },
  {
   "cell_type": "markdown",
   "id": "de5fb51a",
   "metadata": {},
   "source": [
    "## Google Earth Engine\n",
    "\n",
    "Here are some useful definitions and functions to get started on GEE:\n",
    "\n",
    "1. Shapefiles are a popular geospatial vector data format used in Geographic Information System (GIS) software. They consist of multiple files that collectively store geometric and attribute information about geographic features. In GEE, shapefiles get converted to **geometry** (points, lines, polygons).\n",
    "\n",
    "2. FeatureCollection: These are a set of geometry that share a common theme, e.g. we can have a FeatureCollection of polygons representing divisions of Bangladesh. \n",
    "\n",
    "3. Image: A single image that also contains value (information)\n",
    "\n",
    "4. ImageCollection: A \"stack\" or sequence of images with the same attributes\n",
    "\n",
    "(See Dr. Benami's 'PreLab - Intro to GEE' for more detail)"
   ]
  },
  {
   "cell_type": "code",
   "execution_count": 1,
   "id": "a00cb217",
   "metadata": {
    "scrolled": true
   },
   "outputs": [
    {
     "data": {
      "text/html": [
       "<p>To authorize access needed by Earth Engine, open the following\n",
       "        URL in a web browser and follow the instructions:</p>\n",
       "        <p><a href=https://code.earthengine.google.com/client-auth?scopes=https%3A//www.googleapis.com/auth/earthengine%20https%3A//www.googleapis.com/auth/devstorage.full_control&request_id=E37TAioLbpHHfV_4F9gnprBQ1noxY6WanHZhqFbW5So&tc=Hw9bxTrKyIaQleO8hYqV1nMVkNxCbgkGtfE7_DXyU50&cc=R3gZK40DO7ZVF1WAGo9DDDQry_spT8Lq27UWpHe2IjA>https://code.earthengine.google.com/client-auth?scopes=https%3A//www.googleapis.com/auth/earthengine%20https%3A//www.googleapis.com/auth/devstorage.full_control&request_id=E37TAioLbpHHfV_4F9gnprBQ1noxY6WanHZhqFbW5So&tc=Hw9bxTrKyIaQleO8hYqV1nMVkNxCbgkGtfE7_DXyU50&cc=R3gZK40DO7ZVF1WAGo9DDDQry_spT8Lq27UWpHe2IjA</a></p>\n",
       "        <p>The authorization workflow will generate a code, which you should paste in the box below.</p>\n",
       "        "
      ],
      "text/plain": [
       "<IPython.core.display.HTML object>"
      ]
     },
     "metadata": {},
     "output_type": "display_data"
    },
    {
     "name": "stdout",
     "output_type": "stream",
     "text": [
      "Enter verification code: 4/1AfJohXkdgmMUi_L2Lr0g7Sl1fe5q8ZbQvhS2Zvuum78M2_plh0XPVOVr6JI\n",
      "\n",
      "Successfully saved authorization token.\n"
     ]
    }
   ],
   "source": [
    "import ee\n",
    "import geemap\n",
    "\n",
    "#import geopandas as gpd\n",
    "import pandas as pd\n",
    "\n",
    "ee.Authenticate()\n",
    "ee.Initialize()"
   ]
  },
  {
   "cell_type": "code",
   "execution_count": 2,
   "id": "610828b6",
   "metadata": {
    "scrolled": true
   },
   "outputs": [
    {
     "data": {
      "application/vnd.jupyter.widget-view+json": {
       "model_id": "86420b2ca53f46d28e8879f56ace669c",
       "version_major": 2,
       "version_minor": 0
      },
      "text/plain": [
       "Map(center=[23.827491885464603, 90.2877797027878], controls=(WidgetControl(options=['position', 'transparent_b…"
      ]
     },
     "execution_count": 2,
     "metadata": {},
     "output_type": "execute_result"
    }
   ],
   "source": [
    "bangladesh = ee.FeatureCollection('projects/ee-naveenabedin/assets/bgd_admbnda_adm1_bbs_20201113') #ee calls functions from GEE; FeatureCollection calls the shapefile from GEE\n",
    "\n",
    "Map = geemap.Map() #geemap is the package in Python that enables us to open the GEE map in Python\n",
    "\n",
    "\n",
    "Map.centerObject(bangladesh, 7) #7 means zoom = 7\n",
    "Map.addLayer(bangladesh, {}, 'BGD Divisions')\n",
    "\n",
    "Map"
   ]
  },
  {
   "cell_type": "code",
   "execution_count": 3,
   "id": "de2bd737",
   "metadata": {},
   "outputs": [
    {
     "data": {
      "application/vnd.jupyter.widget-view+json": {
       "model_id": "86420b2ca53f46d28e8879f56ace669c",
       "version_major": 2,
       "version_minor": 0
      },
      "text/plain": [
       "Map(bottom=14450.0, center=[23.827491885464603, 90.2877797027878], controls=(WidgetControl(options=['position'…"
      ]
     },
     "execution_count": 3,
     "metadata": {},
     "output_type": "execute_result"
    }
   ],
   "source": [
    "image_collection_name = \"MODIS/061/MOD13A2\"\n",
    "date_start = '2016-01-01'\n",
    "date_end = '2016-12-31'\n",
    "name = 'MODIS EVI'\n",
    "\n",
    "# several images COLLECTION\n",
    "image_collection = (\n",
    "    ee.ImageCollection(image_collection_name)\n",
    "    .filter(ee.Filter.date(date_start, date_end)).select('EVI')\n",
    ")\n",
    "\n",
    "# For visualization purposes\n",
    "image = image_collection.max() #max EVI in year 2018\n",
    "image = image.clip(bangladesh)\n",
    "\n",
    "\n",
    "palette = ['FFFFFF', 'CE7E45', 'DF923D', 'F1B555', 'FCD163', '99B718', '74A901',\n",
    "    '66A000', '529400', '3E8601', '207401', '056201', '004C00', '023B01',\n",
    "    '012E01', '011D01', '011301']\n",
    "\n",
    "vizParams = {\n",
    "    'min': 0, \n",
    "    'max': 9000,\n",
    "    'palette': palette\n",
    "}\n",
    "\n",
    "Map.addLayer(image, vizParams, 'BGD EVI')\n",
    "Map\n"
   ]
  },
  {
   "cell_type": "code",
   "execution_count": 4,
   "id": "60196061",
   "metadata": {},
   "outputs": [
    {
     "name": "stdout",
     "output_type": "stream",
     "text": [
      "Computing statistics ...\n",
      "Generating URL ...\n",
      "Downloading data from https://earthengine.googleapis.com/v1alpha/projects/earthengine-legacy/tables/049f4b64695ae4641329d4045b584c65-f943e1bb273c4fef42a4648fa7cd7559:getFeatures\n",
      "Please wait ...\n",
      "Data downloaded to C:\\Users\\naveenabedin\\Desktop\\DSPG 2023_1\\RS Crash Course\\EVI_BGDDiv_2018.csv\n"
     ]
    }
   ],
   "source": [
    "image_collection_name = \"MODIS/061/MOD13A2\"\n",
    "date_start = '2018-01-01'\n",
    "date_end = '2018-12-31'\n",
    "name = 'MODIS EVI'\n",
    "\n",
    "# several images COLLECTION\n",
    "image_collection = (\n",
    "    ee.ImageCollection(image_collection_name)\n",
    "    .filter(ee.Filter.date(date_start, date_end)).select('EVI')\n",
    ")\n",
    "\n",
    "evi_ts = image_collection.toBands()\n",
    "\n",
    "output = 'EVI_BGDDiv_2018.csv'\n",
    "geemap.zonal_statistics(evi_ts, bangladesh, output, statistics_type='MEAN', scale=1000)"
   ]
  },
  {
   "cell_type": "code",
   "execution_count": 4,
   "id": "dbaebc94",
   "metadata": {},
   "outputs": [
    {
     "data": {
      "application/vnd.jupyter.widget-view+json": {
       "model_id": "10a0ba770564426391d0e4ec80327347",
       "version_major": 2,
       "version_minor": 0
      },
      "text/plain": [
       "Map(center=[37.76140727210689, -77.49240501569922], controls=(WidgetControl(options=['position', 'transparent_…"
      ]
     },
     "execution_count": 4,
     "metadata": {},
     "output_type": "execute_result"
    }
   ],
   "source": [
    "#Let's try with Hanover County parcels\n",
    "hanover = ee.FeatureCollection('projects/ee-naveenabedin/assets/Hanover_Parcels')\n",
    "\n",
    "Map = geemap.Map()\n",
    "\n",
    "\n",
    "Map.centerObject(hanover, 10)\n",
    "Map.addLayer(hanover, {}, 'Hanover Parcels')\n",
    "\n",
    "Map\n"
   ]
  },
  {
   "cell_type": "code",
   "execution_count": 5,
   "id": "03eec163",
   "metadata": {},
   "outputs": [
    {
     "data": {
      "application/vnd.jupyter.widget-view+json": {
       "model_id": "10a0ba770564426391d0e4ec80327347",
       "version_major": 2,
       "version_minor": 0
      },
      "text/plain": [
       "Map(bottom=101637.0, center=[37.76140727210689, -77.49240501569922], controls=(WidgetControl(options=['positio…"
      ]
     },
     "execution_count": 5,
     "metadata": {},
     "output_type": "execute_result"
    }
   ],
   "source": [
    "#Visualize mean EVI in 2020\n",
    "image_collection_name = \"MODIS/061/MOD13A2\"\n",
    "date_start = '2020-01-01'\n",
    "date_end = '2020-12-31'\n",
    "name = 'MODIS EVI'\n",
    "\n",
    "# several images COLLECTION\n",
    "image_collection = (\n",
    "    ee.ImageCollection(image_collection_name)\n",
    "    .filter(ee.Filter.date(date_start, date_end)).select('EVI')\n",
    ")\n",
    "\n",
    "# For visualization purposes\n",
    "image = image_collection.max()\n",
    "image = image.clip(hanover)\n",
    "\n",
    "\n",
    "palette = ['FFFFFF', 'CE7E45', 'DF923D', 'F1B555', 'FCD163', '99B718', '74A901',\n",
    "    '66A000', '529400', '3E8601', '207401', '056201', '004C00', '023B01',\n",
    "    '012E01', '011D01', '011301']\n",
    "\n",
    "vizParams = {\n",
    "    'min': 0, \n",
    "    'max': 9000,\n",
    "    'palette': palette\n",
    "}\n",
    "\n",
    "Map.addLayer(image, vizParams, 'Hanover EVI')\n",
    "Map\n"
   ]
  },
  {
   "cell_type": "code",
   "execution_count": 7,
   "id": "f1ea7934",
   "metadata": {},
   "outputs": [
    {
     "name": "stdout",
     "output_type": "stream",
     "text": [
      "Computing statistics ...\n",
      "Generating URL ...\n",
      "Downloading data from https://earthengine.googleapis.com/v1alpha/projects/earthengine-legacy/tables/a0b3b2294f3b291cc3dad9810a7d0920-4e67fe932d7eb2d2931985b9c0f5e321:getFeatures\n",
      "Please wait ...\n",
      "Data downloaded to C:\\Users\\naveenabedin\\Desktop\\DSPG 2023_1\\RS Crash Course\\EVI_HanPar_2020.csv\n"
     ]
    }
   ],
   "source": [
    "image_collection_name = \"MODIS/061/MOD13A2\"\n",
    "date_start = '2020-01-01'\n",
    "date_end = '2020-12-31'\n",
    "name = 'MODIS EVI'\n",
    "\n",
    "# several images COLLECTION\n",
    "image_collection = (\n",
    "    ee.ImageCollection(image_collection_name)\n",
    "    .filter(ee.Filter.date(date_start, date_end)).select('EVI')\n",
    ")\n",
    "\n",
    "evi_ts = image_collection.toBands()\n",
    "\n",
    "output = 'EVI_HanPar_2020.csv'\n",
    "geemap.zonal_statistics(evi_ts, hanover, output, statistics_type='MEAN', scale=1000)"
   ]
  },
  {
   "cell_type": "code",
   "execution_count": 6,
   "id": "99b0aa32",
   "metadata": {},
   "outputs": [
    {
     "data": {
      "application/vnd.jupyter.widget-view+json": {
       "model_id": "47953b85445e4968a9a7c546526c813e",
       "version_major": 2,
       "version_minor": 0
      },
      "text/plain": [
       "Map(center=[23.827491885464603, 90.2877797027878], controls=(WidgetControl(options=['position', 'transparent_b…"
      ]
     },
     "execution_count": 6,
     "metadata": {},
     "output_type": "execute_result"
    }
   ],
   "source": [
    "bangladesh = ee.FeatureCollection('projects/ee-naveenabedin/assets/bgd_admbnda_adm1_bbs_20201113') #ee calls functions from GEE; FeatureCollection calls the shapefile from GEE\n",
    "\n",
    "Map = geemap.Map() #geemap is the package in Python that enables us to open the GEE map in Python\n",
    "\n",
    "\n",
    "Map.centerObject(bangladesh, 7) #7 means zoom = 7\n",
    "Map.addLayer(bangladesh, {}, 'BGD Divisions')\n",
    "\n",
    "Map"
   ]
  },
  {
   "cell_type": "code",
   "execution_count": 7,
   "id": "65f9ed6c",
   "metadata": {},
   "outputs": [
    {
     "data": {
      "application/vnd.jupyter.widget-view+json": {
       "model_id": "47953b85445e4968a9a7c546526c813e",
       "version_major": 2,
       "version_minor": 0
      },
      "text/plain": [
       "Map(bottom=14450.0, center=[23.827491885464603, 90.2877797027878], controls=(WidgetControl(options=['position'…"
      ]
     },
     "execution_count": 7,
     "metadata": {},
     "output_type": "execute_result"
    }
   ],
   "source": [
    "#CHIRPS \n",
    "image_collection_name = \"UCSB-CHG/CHIRPS/PENTAD\"\n",
    "date_start = '2017-01-01'\n",
    "date_end = '2017-12-31'\n",
    "name = 'CHIRPS'\n",
    "\n",
    "image_collection = (\n",
    "    ee.ImageCollection(image_collection_name)\n",
    "    .filter(ee.Filter.date(date_start, date_end)).select('precipitation')\n",
    ")\n",
    "\n",
    "image = image_collection.sum()\n",
    "image = image.clip(bangladesh)\n",
    "\n",
    "\n",
    "palette = ['#ffffcc','#a1dab4','#41b6c4','#2c7fb8','#253494']\n",
    "\n",
    "vizParams = {\n",
    "    'min': 0, \n",
    "    'max': 4000,\n",
    "    'palette': palette #, \n",
    "    #'opacity': 0.6\n",
    "}\n",
    "\n",
    "Map.addLayer(image, vizParams, 'CHIRPS Rainfall')\n",
    "Map"
   ]
  },
  {
   "cell_type": "code",
   "execution_count": 13,
   "id": "c767aebc",
   "metadata": {},
   "outputs": [],
   "source": [
    "image_collection_name = \"UCSB-CHG/CHIRPS/PENTAD\"\n",
    "date_start = '2017-01-01'\n",
    "date_end = '2017-12-31'\n",
    "name = 'CHIRPS'\n",
    "\n",
    "image_collection = (\n",
    "    ee.ImageCollection(image_collection_name)\n",
    "    .filter(ee.Filter.date(date_start, date_end)).select('precipitation')\n",
    ")\n",
    "\n",
    "precip_ts = image_collection.toBands()\n",
    "\n",
    "output = 'PRECIP_Bangladesh2017.csv'\n",
    "geemap.zonal_statistics(precip_ts, bangladesh, output, statistics_type='MEAN', scale=5000) #average of all pixel values in a particular polygon"
   ]
  },
  {
   "cell_type": "code",
   "execution_count": null,
   "id": "bedc46dd",
   "metadata": {},
   "outputs": [],
   "source": []
  }
 ],
 "metadata": {
  "hide_input": false,
  "kernelspec": {
   "display_name": "Python 3 (ipykernel)",
   "language": "python",
   "name": "python3"
  },
  "language_info": {
   "codemirror_mode": {
    "name": "ipython",
    "version": 3
   },
   "file_extension": ".py",
   "mimetype": "text/x-python",
   "name": "python",
   "nbconvert_exporter": "python",
   "pygments_lexer": "ipython3",
   "version": "3.8.16"
  },
  "toc": {
   "base_numbering": 1,
   "nav_menu": {},
   "number_sections": true,
   "sideBar": true,
   "skip_h1_title": false,
   "title_cell": "Table of Contents",
   "title_sidebar": "Contents",
   "toc_cell": false,
   "toc_position": {},
   "toc_section_display": true,
   "toc_window_display": false
  }
 },
 "nbformat": 4,
 "nbformat_minor": 5
}
